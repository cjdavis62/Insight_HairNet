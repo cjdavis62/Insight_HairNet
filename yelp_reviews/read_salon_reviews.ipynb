{
 "cells": [
  {
   "cell_type": "code",
   "execution_count": 23,
   "metadata": {},
   "outputs": [],
   "source": [
    "import pandas as pd\n",
    "import re\n",
    "from sqlalchemy import create_engine\n",
    "from sqlalchemy_utils import database_exists, create_database\n",
    "import psycopg2\n",
    "import pandas as pd\n",
    "import nltk\n",
    "from nltk import pos_tag\n",
    "from nltk import tokenize\n",
    "from nltk.tokenize import RegexpTokenizer\n",
    "from nltk.corpus import stopwords\n",
    "from nltk.corpus import wordnet\n",
    "from nltk.tokenize import WhitespaceTokenizer\n",
    "from nltk.stem import WordNetLemmatizer\n",
    "import matplotlib.pyplot as plt\n",
    "import string\n",
    "from nltk.sentiment import SentimentIntensityAnalyzer\n",
    "from sklearn.metrics import accuracy_score"
   ]
  },
  {
   "cell_type": "code",
   "execution_count": 24,
   "metadata": {},
   "outputs": [],
   "source": [
    "reviews_df = pd.read_csv(\"HairSalons_reviews_cloud_export_17427.csv\")"
   ]
  },
  {
   "cell_type": "code",
   "execution_count": 25,
   "metadata": {},
   "outputs": [
    {
     "data": {
      "text/html": [
       "<div>\n",
       "<style scoped>\n",
       "    .dataframe tbody tr th:only-of-type {\n",
       "        vertical-align: middle;\n",
       "    }\n",
       "\n",
       "    .dataframe tbody tr th {\n",
       "        vertical-align: top;\n",
       "    }\n",
       "\n",
       "    .dataframe thead th {\n",
       "        text-align: right;\n",
       "    }\n",
       "</style>\n",
       "<table border=\"1\" class=\"dataframe\">\n",
       "  <thead>\n",
       "    <tr style=\"text-align: right;\">\n",
       "      <th></th>\n",
       "      <th>Review</th>\n",
       "      <th>Page_Title</th>\n",
       "    </tr>\n",
       "  </thead>\n",
       "  <tbody>\n",
       "    <tr>\n",
       "      <th>0</th>\n",
       "      <td>Love this salon! I was referred over by two of...</td>\n",
       "      <td>Urban Betty - 128 Photos &amp; 537 Reviews - Hair ...</td>\n",
       "    </tr>\n",
       "    <tr>\n",
       "      <th>1</th>\n",
       "      <td>Came in for a summer haircut since my hair was...</td>\n",
       "      <td>Urban Betty - 128 Photos &amp; 537 Reviews - Hair ...</td>\n",
       "    </tr>\n",
       "    <tr>\n",
       "      <th>2</th>\n",
       "      <td>I recently moved and have been looking for a g...</td>\n",
       "      <td>Urban Betty - 128 Photos &amp; 537 Reviews - Hair ...</td>\n",
       "    </tr>\n",
       "    <tr>\n",
       "      <th>3</th>\n",
       "      <td>Y'all stop what you are doing right now and go...</td>\n",
       "      <td>Urban Betty - 128 Photos &amp; 537 Reviews - Hair ...</td>\n",
       "    </tr>\n",
       "    <tr>\n",
       "      <th>4</th>\n",
       "      <td>Love, love, love this place! I saw Holly and s...</td>\n",
       "      <td>Urban Betty - 128 Photos &amp; 537 Reviews - Hair ...</td>\n",
       "    </tr>\n",
       "  </tbody>\n",
       "</table>\n",
       "</div>"
      ],
      "text/plain": [
       "                                              Review  \\\n",
       "0  Love this salon! I was referred over by two of...   \n",
       "1  Came in for a summer haircut since my hair was...   \n",
       "2  I recently moved and have been looking for a g...   \n",
       "3  Y'all stop what you are doing right now and go...   \n",
       "4  Love, love, love this place! I saw Holly and s...   \n",
       "\n",
       "                                          Page_Title  \n",
       "0  Urban Betty - 128 Photos & 537 Reviews - Hair ...  \n",
       "1  Urban Betty - 128 Photos & 537 Reviews - Hair ...  \n",
       "2  Urban Betty - 128 Photos & 537 Reviews - Hair ...  \n",
       "3  Urban Betty - 128 Photos & 537 Reviews - Hair ...  \n",
       "4  Urban Betty - 128 Photos & 537 Reviews - Hair ...  "
      ]
     },
     "execution_count": 25,
     "metadata": {},
     "output_type": "execute_result"
    }
   ],
   "source": [
    "reviews_df.head()"
   ]
  },
  {
   "cell_type": "code",
   "execution_count": 26,
   "metadata": {},
   "outputs": [],
   "source": [
    "def get_salon_name(row):\n",
    "    page_title = row[\"Page_Title\"].split(\" - \") # split page title by the dash\n",
    "    return page_title[0] # The salon name is the first of the split"
   ]
  },
  {
   "cell_type": "code",
   "execution_count": 27,
   "metadata": {},
   "outputs": [],
   "source": [
    "reviews_df[\"Title\"] = reviews_df.apply(get_salon_name, axis=1)"
   ]
  },
  {
   "cell_type": "code",
   "execution_count": 28,
   "metadata": {},
   "outputs": [
    {
     "data": {
      "text/html": [
       "<div>\n",
       "<style scoped>\n",
       "    .dataframe tbody tr th:only-of-type {\n",
       "        vertical-align: middle;\n",
       "    }\n",
       "\n",
       "    .dataframe tbody tr th {\n",
       "        vertical-align: top;\n",
       "    }\n",
       "\n",
       "    .dataframe thead th {\n",
       "        text-align: right;\n",
       "    }\n",
       "</style>\n",
       "<table border=\"1\" class=\"dataframe\">\n",
       "  <thead>\n",
       "    <tr style=\"text-align: right;\">\n",
       "      <th></th>\n",
       "      <th>Review</th>\n",
       "      <th>Page_Title</th>\n",
       "      <th>Title</th>\n",
       "    </tr>\n",
       "  </thead>\n",
       "  <tbody>\n",
       "    <tr>\n",
       "      <th>0</th>\n",
       "      <td>Love this salon! I was referred over by two of...</td>\n",
       "      <td>Urban Betty - 128 Photos &amp; 537 Reviews - Hair ...</td>\n",
       "      <td>Urban Betty</td>\n",
       "    </tr>\n",
       "    <tr>\n",
       "      <th>1</th>\n",
       "      <td>Came in for a summer haircut since my hair was...</td>\n",
       "      <td>Urban Betty - 128 Photos &amp; 537 Reviews - Hair ...</td>\n",
       "      <td>Urban Betty</td>\n",
       "    </tr>\n",
       "    <tr>\n",
       "      <th>2</th>\n",
       "      <td>I recently moved and have been looking for a g...</td>\n",
       "      <td>Urban Betty - 128 Photos &amp; 537 Reviews - Hair ...</td>\n",
       "      <td>Urban Betty</td>\n",
       "    </tr>\n",
       "    <tr>\n",
       "      <th>3</th>\n",
       "      <td>Y'all stop what you are doing right now and go...</td>\n",
       "      <td>Urban Betty - 128 Photos &amp; 537 Reviews - Hair ...</td>\n",
       "      <td>Urban Betty</td>\n",
       "    </tr>\n",
       "    <tr>\n",
       "      <th>4</th>\n",
       "      <td>Love, love, love this place! I saw Holly and s...</td>\n",
       "      <td>Urban Betty - 128 Photos &amp; 537 Reviews - Hair ...</td>\n",
       "      <td>Urban Betty</td>\n",
       "    </tr>\n",
       "  </tbody>\n",
       "</table>\n",
       "</div>"
      ],
      "text/plain": [
       "                                              Review  \\\n",
       "0  Love this salon! I was referred over by two of...   \n",
       "1  Came in for a summer haircut since my hair was...   \n",
       "2  I recently moved and have been looking for a g...   \n",
       "3  Y'all stop what you are doing right now and go...   \n",
       "4  Love, love, love this place! I saw Holly and s...   \n",
       "\n",
       "                                          Page_Title        Title  \n",
       "0  Urban Betty - 128 Photos & 537 Reviews - Hair ...  Urban Betty  \n",
       "1  Urban Betty - 128 Photos & 537 Reviews - Hair ...  Urban Betty  \n",
       "2  Urban Betty - 128 Photos & 537 Reviews - Hair ...  Urban Betty  \n",
       "3  Urban Betty - 128 Photos & 537 Reviews - Hair ...  Urban Betty  \n",
       "4  Urban Betty - 128 Photos & 537 Reviews - Hair ...  Urban Betty  "
      ]
     },
     "execution_count": 28,
     "metadata": {},
     "output_type": "execute_result"
    }
   ],
   "source": [
    "reviews_df.head(5)"
   ]
  },
  {
   "cell_type": "markdown",
   "metadata": {},
   "source": [
    "Reshape into a newer, cleaner dataframe to load to the database"
   ]
  },
  {
   "cell_type": "code",
   "execution_count": 29,
   "metadata": {},
   "outputs": [
    {
     "data": {
      "text/plain": [
       "(16111, 2)"
      ]
     },
     "execution_count": 29,
     "metadata": {},
     "output_type": "execute_result"
    }
   ],
   "source": [
    "reviews_clean = reviews_df.copy()\n",
    "reviews_clean.drop([\"Page_Title\"], axis=1, inplace = True)\n",
    "reviews_clean.drop_duplicates(inplace = True)\n",
    "reviews_clean.shape"
   ]
  },
  {
   "cell_type": "code",
   "execution_count": 30,
   "metadata": {},
   "outputs": [],
   "source": [
    "# clean up some sentences\n",
    "def fix_up_punctuation(text):\n",
    "    fixed_period = re.sub(r'\\.(?=[a-zA-Z])', '. ', re.sub(r' +', ' ', text))\n",
    "    fixed_question = re.sub(r'\\?(?=[a-zA-Z])', '? ', re.sub(r' +', ' ', fixed_period))\n",
    "    fixed_exclamation = re.sub(r'\\!(?=[a-zA-Z])', '! ', re.sub(r' +', ' ', fixed_question))\n",
    "    return fixed_exclamation\n",
    "\n",
    "def get_sentiment(text):\n",
    "    sentiment = SentimentIntensityAnalyzer() #### calling Intensity Analyzer\n",
    "    compound = sentiment.polarity_scores(text)['compound']  ### calling the 'compound' score for the \"text\" entered\n",
    "    #if compound > 0:\n",
    "    #    return 1  ## positive\n",
    "    #else:\n",
    "    #    return 0 ## negative\n",
    "    #else:\n",
    "        #return \"Neutral\"     \n",
    "    #print(compound)\n",
    "    return compound"
   ]
  },
  {
   "cell_type": "code",
   "execution_count": 45,
   "metadata": {},
   "outputs": [
    {
     "data": {
      "text/html": [
       "<div>\n",
       "<style scoped>\n",
       "    .dataframe tbody tr th:only-of-type {\n",
       "        vertical-align: middle;\n",
       "    }\n",
       "\n",
       "    .dataframe tbody tr th {\n",
       "        vertical-align: top;\n",
       "    }\n",
       "\n",
       "    .dataframe thead th {\n",
       "        text-align: right;\n",
       "    }\n",
       "</style>\n",
       "<table border=\"1\" class=\"dataframe\">\n",
       "  <thead>\n",
       "    <tr style=\"text-align: right;\">\n",
       "      <th></th>\n",
       "      <th>Review</th>\n",
       "      <th>Title</th>\n",
       "      <th>sentiment_vader</th>\n",
       "    </tr>\n",
       "  </thead>\n",
       "  <tbody>\n",
       "    <tr>\n",
       "      <th>0</th>\n",
       "      <td>Love this salon! I was referred over by two of...</td>\n",
       "      <td>Urban Betty</td>\n",
       "      <td>0.9746</td>\n",
       "    </tr>\n",
       "    <tr>\n",
       "      <th>1</th>\n",
       "      <td>Came in for a summer haircut since my hair was...</td>\n",
       "      <td>Urban Betty</td>\n",
       "      <td>0.9560</td>\n",
       "    </tr>\n",
       "    <tr>\n",
       "      <th>2</th>\n",
       "      <td>I recently moved and have been looking for a g...</td>\n",
       "      <td>Urban Betty</td>\n",
       "      <td>-0.9035</td>\n",
       "    </tr>\n",
       "    <tr>\n",
       "      <th>3</th>\n",
       "      <td>Y'all stop what you are doing right now and go...</td>\n",
       "      <td>Urban Betty</td>\n",
       "      <td>0.9911</td>\n",
       "    </tr>\n",
       "    <tr>\n",
       "      <th>4</th>\n",
       "      <td>Love, love, love this place! I saw Holly and s...</td>\n",
       "      <td>Urban Betty</td>\n",
       "      <td>0.9844</td>\n",
       "    </tr>\n",
       "  </tbody>\n",
       "</table>\n",
       "</div>"
      ],
      "text/plain": [
       "                                              Review        Title  \\\n",
       "0  Love this salon! I was referred over by two of...  Urban Betty   \n",
       "1  Came in for a summer haircut since my hair was...  Urban Betty   \n",
       "2  I recently moved and have been looking for a g...  Urban Betty   \n",
       "3  Y'all stop what you are doing right now and go...  Urban Betty   \n",
       "4  Love, love, love this place! I saw Holly and s...  Urban Betty   \n",
       "\n",
       "   sentiment_vader  \n",
       "0           0.9746  \n",
       "1           0.9560  \n",
       "2          -0.9035  \n",
       "3           0.9911  \n",
       "4           0.9844  "
      ]
     },
     "execution_count": 45,
     "metadata": {},
     "output_type": "execute_result"
    }
   ],
   "source": [
    "reviews_clean['Review'] = reviews_clean['Review'].apply(lambda x: fix_up_punctuation(x))\n",
    "reviews_clean['sentiment_vader'] = reviews_clean['Review'].apply(get_sentiment) ### in the columns of \"imdb\"\n",
    "reviews_clean.head()"
   ]
  },
  {
   "cell_type": "markdown",
   "metadata": {},
   "source": [
    "Once all the data is put into a pandas dataframe, convert that to a SQL database"
   ]
  },
  {
   "cell_type": "code",
   "execution_count": 46,
   "metadata": {},
   "outputs": [],
   "source": [
    "f=open(\"db.txt\", \"r\")\n",
    "contents=0\n",
    "if not(contents):\n",
    "    contents = f.read()\n",
    "username = contents.split(\"\\n\")[0]\n",
    "password = contents.split(\"\\n\")[1]\n",
    "dbname = 'reviews_db'"
   ]
  },
  {
   "cell_type": "code",
   "execution_count": 47,
   "metadata": {},
   "outputs": [],
   "source": [
    "engine = create_engine('postgres://%s:%s@localhost/%s'%(username,password, dbname))"
   ]
  },
  {
   "cell_type": "code",
   "execution_count": 48,
   "metadata": {},
   "outputs": [
    {
     "name": "stdout",
     "output_type": "stream",
     "text": [
      "True\n"
     ]
    }
   ],
   "source": [
    "if not database_exists(engine.url):\n",
    "    create_database(engine.url)\n",
    "print(database_exists(engine.url))"
   ]
  },
  {
   "cell_type": "code",
   "execution_count": 49,
   "metadata": {},
   "outputs": [],
   "source": [
    "reviews_clean.to_sql('reviews_data_table', engine, if_exists='replace')"
   ]
  },
  {
   "cell_type": "markdown",
   "metadata": {},
   "source": [
    "Check to make sure the pandas dataframe made it to the database correctly"
   ]
  },
  {
   "cell_type": "code",
   "execution_count": 50,
   "metadata": {},
   "outputs": [
    {
     "data": {
      "text/html": [
       "<div>\n",
       "<style scoped>\n",
       "    .dataframe tbody tr th:only-of-type {\n",
       "        vertical-align: middle;\n",
       "    }\n",
       "\n",
       "    .dataframe tbody tr th {\n",
       "        vertical-align: top;\n",
       "    }\n",
       "\n",
       "    .dataframe thead th {\n",
       "        text-align: right;\n",
       "    }\n",
       "</style>\n",
       "<table border=\"1\" class=\"dataframe\">\n",
       "  <thead>\n",
       "    <tr style=\"text-align: right;\">\n",
       "      <th></th>\n",
       "      <th>index</th>\n",
       "      <th>Review</th>\n",
       "      <th>Title</th>\n",
       "      <th>sentiment_vader</th>\n",
       "    </tr>\n",
       "  </thead>\n",
       "  <tbody>\n",
       "    <tr>\n",
       "      <th>0</th>\n",
       "      <td>0</td>\n",
       "      <td>Love this salon! I was referred over by two of...</td>\n",
       "      <td>Urban Betty</td>\n",
       "      <td>0.9746</td>\n",
       "    </tr>\n",
       "    <tr>\n",
       "      <th>1</th>\n",
       "      <td>1</td>\n",
       "      <td>Came in for a summer haircut since my hair was...</td>\n",
       "      <td>Urban Betty</td>\n",
       "      <td>0.9560</td>\n",
       "    </tr>\n",
       "    <tr>\n",
       "      <th>2</th>\n",
       "      <td>2</td>\n",
       "      <td>I recently moved and have been looking for a g...</td>\n",
       "      <td>Urban Betty</td>\n",
       "      <td>-0.9035</td>\n",
       "    </tr>\n",
       "    <tr>\n",
       "      <th>3</th>\n",
       "      <td>3</td>\n",
       "      <td>Y'all stop what you are doing right now and go...</td>\n",
       "      <td>Urban Betty</td>\n",
       "      <td>0.9911</td>\n",
       "    </tr>\n",
       "    <tr>\n",
       "      <th>4</th>\n",
       "      <td>4</td>\n",
       "      <td>Love, love, love this place! I saw Holly and s...</td>\n",
       "      <td>Urban Betty</td>\n",
       "      <td>0.9844</td>\n",
       "    </tr>\n",
       "  </tbody>\n",
       "</table>\n",
       "</div>"
      ],
      "text/plain": [
       "   index                                             Review        Title  \\\n",
       "0      0  Love this salon! I was referred over by two of...  Urban Betty   \n",
       "1      1  Came in for a summer haircut since my hair was...  Urban Betty   \n",
       "2      2  I recently moved and have been looking for a g...  Urban Betty   \n",
       "3      3  Y'all stop what you are doing right now and go...  Urban Betty   \n",
       "4      4  Love, love, love this place! I saw Holly and s...  Urban Betty   \n",
       "\n",
       "   sentiment_vader  \n",
       "0           0.9746  \n",
       "1           0.9560  \n",
       "2          -0.9035  \n",
       "3           0.9911  \n",
       "4           0.9844  "
      ]
     },
     "execution_count": 50,
     "metadata": {},
     "output_type": "execute_result"
    }
   ],
   "source": [
    "con = None\n",
    "con = psycopg2.connect(database = dbname, user = username, password = password, port=5432, host= \"/var/run/postgresql/\")\n",
    "\n",
    "# query:\n",
    "sql_query = \"\"\"\n",
    "SELECT * FROM reviews_data_table;\n",
    "\"\"\"\n",
    "review_data_from_sql = pd.read_sql_query(sql_query,con)\n",
    "con.close()\n",
    "review_data_from_sql.head()"
   ]
  },
  {
   "cell_type": "code",
   "execution_count": 68,
   "metadata": {},
   "outputs": [
    {
     "data": {
      "text/plain": [
       "'Urban Betty'"
      ]
     },
     "execution_count": 68,
     "metadata": {},
     "output_type": "execute_result"
    }
   ],
   "source": [
    "review_data_from_sql.iloc[1][2]"
   ]
  }
 ],
 "metadata": {
  "kernelspec": {
   "display_name": "Python 3",
   "language": "python",
   "name": "python3"
  },
  "language_info": {
   "codemirror_mode": {
    "name": "ipython",
    "version": 3
   },
   "file_extension": ".py",
   "mimetype": "text/x-python",
   "name": "python",
   "nbconvert_exporter": "python",
   "pygments_lexer": "ipython3",
   "version": "3.7.3"
  }
 },
 "nbformat": 4,
 "nbformat_minor": 2
}
