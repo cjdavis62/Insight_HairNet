{
 "cells": [
  {
   "cell_type": "code",
   "execution_count": 151,
   "metadata": {},
   "outputs": [],
   "source": [
    "import pandas as pd\n",
    "import re\n",
    "from sqlalchemy import create_engine\n",
    "from sqlalchemy_utils import database_exists, create_database\n",
    "import psycopg2\n",
    "import pandas as pd\n",
    "import nltk\n",
    "from nltk import pos_tag\n",
    "from nltk.tokenize import RegexpTokenizer\n",
    "from nltk.corpus import stopwords\n",
    "from nltk.corpus import wordnet\n",
    "from nltk.tokenize import WhitespaceTokenizer\n",
    "from nltk.stem import WordNetLemmatizer\n",
    "import matplotlib.pyplot as plt\n",
    "import string\n",
    "from nltk.sentiment import SentimentIntensityAnalyzer\n",
    "from sklearn.metrics import accuracy_score"
   ]
  },
  {
   "cell_type": "code",
   "execution_count": 5,
   "metadata": {},
   "outputs": [],
   "source": [
    "f=open(\"db.txt\", \"r\")\n",
    "contents=0\n",
    "if not(contents):\n",
    "    contents = f.read()\n",
    "username = contents.split(\"\\n\")[0]\n",
    "password = contents.split(\"\\n\")[1]\n",
    "dbname = 'reviews_db'"
   ]
  },
  {
   "cell_type": "code",
   "execution_count": 88,
   "metadata": {},
   "outputs": [
    {
     "data": {
      "text/html": [
       "<div>\n",
       "<style scoped>\n",
       "    .dataframe tbody tr th:only-of-type {\n",
       "        vertical-align: middle;\n",
       "    }\n",
       "\n",
       "    .dataframe tbody tr th {\n",
       "        vertical-align: top;\n",
       "    }\n",
       "\n",
       "    .dataframe thead th {\n",
       "        text-align: right;\n",
       "    }\n",
       "</style>\n",
       "<table border=\"1\" class=\"dataframe\">\n",
       "  <thead>\n",
       "    <tr style=\"text-align: right;\">\n",
       "      <th></th>\n",
       "      <th>index</th>\n",
       "      <th>Review</th>\n",
       "      <th>Title</th>\n",
       "    </tr>\n",
       "  </thead>\n",
       "  <tbody>\n",
       "    <tr>\n",
       "      <th>0</th>\n",
       "      <td>0</td>\n",
       "      <td>Love this salon! I was referred over by two of...</td>\n",
       "      <td>Urban Betty</td>\n",
       "    </tr>\n",
       "    <tr>\n",
       "      <th>1</th>\n",
       "      <td>1</td>\n",
       "      <td>Came in for a summer haircut since my hair was...</td>\n",
       "      <td>Urban Betty</td>\n",
       "    </tr>\n",
       "    <tr>\n",
       "      <th>2</th>\n",
       "      <td>2</td>\n",
       "      <td>I recently moved and have been looking for a g...</td>\n",
       "      <td>Urban Betty</td>\n",
       "    </tr>\n",
       "    <tr>\n",
       "      <th>3</th>\n",
       "      <td>3</td>\n",
       "      <td>Y'all stop what you are doing right now and go...</td>\n",
       "      <td>Urban Betty</td>\n",
       "    </tr>\n",
       "    <tr>\n",
       "      <th>4</th>\n",
       "      <td>4</td>\n",
       "      <td>Love, love, love this place! I saw Holly and s...</td>\n",
       "      <td>Urban Betty</td>\n",
       "    </tr>\n",
       "  </tbody>\n",
       "</table>\n",
       "</div>"
      ],
      "text/plain": [
       "   index                                             Review        Title\n",
       "0      0  Love this salon! I was referred over by two of...  Urban Betty\n",
       "1      1  Came in for a summer haircut since my hair was...  Urban Betty\n",
       "2      2  I recently moved and have been looking for a g...  Urban Betty\n",
       "3      3  Y'all stop what you are doing right now and go...  Urban Betty\n",
       "4      4  Love, love, love this place! I saw Holly and s...  Urban Betty"
      ]
     },
     "execution_count": 88,
     "metadata": {},
     "output_type": "execute_result"
    }
   ],
   "source": [
    "con = None\n",
    "con = psycopg2.connect(database = dbname, user = username, password = password, port=5432, host= \"/var/run/postgresql/\")\n",
    "\n",
    "# query:\n",
    "sql_query = \"\"\"\n",
    "SELECT * FROM reviews_data_table;\n",
    "\"\"\"\n",
    "review_data_from_sql = pd.read_sql_query(sql_query,con)\n",
    "review_data_from_sql.head()"
   ]
  },
  {
   "cell_type": "code",
   "execution_count": 70,
   "metadata": {},
   "outputs": [
    {
     "data": {
      "text/plain": [
       "'I went to this salon last week for the first time. \\xa0Rae did my hair. \\xa0She needed to cut about 5 inches off my hair because it was so overgrown and damaged from using grocery store dye. \\xa0It also was about 5 different colors. \\xa0She did a balayage treatement on my hair. \\xa0It looks gorgeous! \\xa0I have received so many compliments. \\xa0I luv it. \\xa0Thank you Rae!!!! \\xa0This is a great salon.'"
      ]
     },
     "execution_count": 70,
     "metadata": {},
     "output_type": "execute_result"
    }
   ],
   "source": [
    "first_subset.iloc[3,1]"
   ]
  },
  {
   "cell_type": "code",
   "execution_count": 8,
   "metadata": {},
   "outputs": [],
   "source": [
    "def standardize_text(df, text_field):\n",
    "    df[text_field] = df[text_field].str.replace(r\"http\\S+\", \"\")\n",
    "    df[text_field] = df[text_field].str.replace(r\"http\", \"\")\n",
    "    df[text_field] = df[text_field].str.replace(r\"@\\S+\", \"\")\n",
    "    df[text_field] = df[text_field].str.replace(r\"[^A-Za-z0-9(),!?@\\'\\`\\\"\\_\\n]\", \" \")\n",
    "    df[text_field] = df[text_field].str.replace(r\"@\", \"at\")\n",
    "    df[text_field] = df[text_field].str.lower()\n",
    "    return df    "
   ]
  },
  {
   "cell_type": "markdown",
   "metadata": {},
   "source": [
    "## This section is for Vader ##"
   ]
  },
  {
   "cell_type": "code",
   "execution_count": 156,
   "metadata": {},
   "outputs": [],
   "source": [
    "sentiment = SentimentIntensityAnalyzer()\n",
    "review_data_from_sql = review_data_from_sql['Review'].str.lower().str.replace('[^a-z ]', '')"
   ]
  },
  {
   "cell_type": "code",
   "execution_count": 161,
   "metadata": {},
   "outputs": [],
   "source": [
    "reviews_for_vader = review_data_from_sql.to_frame().copy()"
   ]
  },
  {
   "cell_type": "code",
   "execution_count": 162,
   "metadata": {},
   "outputs": [
    {
     "data": {
      "text/html": [
       "<div>\n",
       "<style scoped>\n",
       "    .dataframe tbody tr th:only-of-type {\n",
       "        vertical-align: middle;\n",
       "    }\n",
       "\n",
       "    .dataframe tbody tr th {\n",
       "        vertical-align: top;\n",
       "    }\n",
       "\n",
       "    .dataframe thead th {\n",
       "        text-align: right;\n",
       "    }\n",
       "</style>\n",
       "<table border=\"1\" class=\"dataframe\">\n",
       "  <thead>\n",
       "    <tr style=\"text-align: right;\">\n",
       "      <th></th>\n",
       "      <th>Review</th>\n",
       "    </tr>\n",
       "  </thead>\n",
       "  <tbody>\n",
       "    <tr>\n",
       "      <th>0</th>\n",
       "      <td>love this salon i was referred over by two of ...</td>\n",
       "    </tr>\n",
       "    <tr>\n",
       "      <th>1</th>\n",
       "      <td>came in for a summer haircut since my hair was...</td>\n",
       "    </tr>\n",
       "    <tr>\n",
       "      <th>2</th>\n",
       "      <td>i recently moved and have been looking for a g...</td>\n",
       "    </tr>\n",
       "    <tr>\n",
       "      <th>3</th>\n",
       "      <td>yall stop what you are doing right now and go ...</td>\n",
       "    </tr>\n",
       "    <tr>\n",
       "      <th>4</th>\n",
       "      <td>love love love this place i saw holly and she ...</td>\n",
       "    </tr>\n",
       "  </tbody>\n",
       "</table>\n",
       "</div>"
      ],
      "text/plain": [
       "                                              Review\n",
       "0  love this salon i was referred over by two of ...\n",
       "1  came in for a summer haircut since my hair was...\n",
       "2  i recently moved and have been looking for a g...\n",
       "3  yall stop what you are doing right now and go ...\n",
       "4  love love love this place i saw holly and she ..."
      ]
     },
     "execution_count": 162,
     "metadata": {},
     "output_type": "execute_result"
    }
   ],
   "source": [
    "reviews_for_vader.head()"
   ]
  },
  {
   "cell_type": "code",
   "execution_count": 163,
   "metadata": {},
   "outputs": [
    {
     "data": {
      "text/plain": [
       "0        False\n",
       "1        False\n",
       "2        False\n",
       "3        False\n",
       "4        False\n",
       "5        False\n",
       "6        False\n",
       "7        False\n",
       "8        False\n",
       "9        False\n",
       "10       False\n",
       "11       False\n",
       "12       False\n",
       "13       False\n",
       "14       False\n",
       "15       False\n",
       "16       False\n",
       "17       False\n",
       "18       False\n",
       "19       False\n",
       "20       False\n",
       "21       False\n",
       "22       False\n",
       "23       False\n",
       "24       False\n",
       "25       False\n",
       "26       False\n",
       "27       False\n",
       "28       False\n",
       "29       False\n",
       "         ...  \n",
       "17397    False\n",
       "17398    False\n",
       "17399    False\n",
       "17400    False\n",
       "17401    False\n",
       "17402    False\n",
       "17403    False\n",
       "17404    False\n",
       "17405    False\n",
       "17406    False\n",
       "17407    False\n",
       "17408    False\n",
       "17409    False\n",
       "17410    False\n",
       "17411    False\n",
       "17412    False\n",
       "17413    False\n",
       "17414    False\n",
       "17415    False\n",
       "17416    False\n",
       "17417    False\n",
       "17418    False\n",
       "17419    False\n",
       "17420    False\n",
       "17421    False\n",
       "17422    False\n",
       "17423    False\n",
       "17424    False\n",
       "17425    False\n",
       "17426    False\n",
       "Length: 17427, dtype: bool"
      ]
     },
     "execution_count": 163,
     "metadata": {},
     "output_type": "execute_result"
    }
   ],
   "source": [
    "reviews_for_vader.isnull().any(axis=1)"
   ]
  },
  {
   "cell_type": "code",
   "execution_count": 164,
   "metadata": {},
   "outputs": [],
   "source": [
    "reviews_for_vader = reviews_for_vader.dropna()"
   ]
  },
  {
   "cell_type": "code",
   "execution_count": 165,
   "metadata": {},
   "outputs": [],
   "source": [
    "def get_sentiment(text):\n",
    "    sentiment = SentimentIntensityAnalyzer() #### calling Intensity Analyzer\n",
    "    compound = sentiment.polarity_scores(text)['compound']  ### calling the 'compound' score for the \"text\" entered\n",
    "    if compound > 0:\n",
    "        return 1  ## positive\n",
    "    else:\n",
    "        return 0 ## negative\n",
    "    #else:\n",
    "        #return \"Neutral\"     \n",
    "    return compound"
   ]
  },
  {
   "cell_type": "code",
   "execution_count": 166,
   "metadata": {},
   "outputs": [
    {
     "data": {
      "text/plain": [
       "0        1\n",
       "1        1\n",
       "2        0\n",
       "3        1\n",
       "4        1\n",
       "5        1\n",
       "6        1\n",
       "7        1\n",
       "8        1\n",
       "9        1\n",
       "10       1\n",
       "11       1\n",
       "12       1\n",
       "13       1\n",
       "14       1\n",
       "15       1\n",
       "16       1\n",
       "17       1\n",
       "18       1\n",
       "19       0\n",
       "20       1\n",
       "21       1\n",
       "22       1\n",
       "23       1\n",
       "24       1\n",
       "25       1\n",
       "26       1\n",
       "27       1\n",
       "28       1\n",
       "29       0\n",
       "        ..\n",
       "17397    1\n",
       "17398    1\n",
       "17399    0\n",
       "17400    1\n",
       "17401    1\n",
       "17402    1\n",
       "17403    1\n",
       "17404    1\n",
       "17405    1\n",
       "17406    1\n",
       "17407    1\n",
       "17408    1\n",
       "17409    1\n",
       "17410    1\n",
       "17411    1\n",
       "17412    1\n",
       "17413    1\n",
       "17414    1\n",
       "17415    1\n",
       "17416    1\n",
       "17417    1\n",
       "17418    1\n",
       "17419    1\n",
       "17420    1\n",
       "17421    1\n",
       "17422    0\n",
       "17423    1\n",
       "17424    1\n",
       "17425    1\n",
       "17426    1\n",
       "Name: sentiment_vader, Length: 17427, dtype: int64"
      ]
     },
     "execution_count": 166,
     "metadata": {},
     "output_type": "execute_result"
    }
   ],
   "source": [
    "reviews_for_vader['sentiment_vader'] = reviews_for_vader['Review'].apply(get_sentiment) ### in the columns of \"imdb\"\n",
    "reviews_for_vader['sentiment_vader'] "
   ]
  },
  {
   "cell_type": "code",
   "execution_count": 152,
   "metadata": {},
   "outputs": [
    {
     "data": {
      "text/plain": [
       "array([1])"
      ]
     },
     "execution_count": 152,
     "metadata": {},
     "output_type": "execute_result"
    }
   ],
   "source": [
    "reviews_for_vader['sentiment_vader'].unique()"
   ]
  },
  {
   "cell_type": "markdown",
   "metadata": {},
   "source": [
    "## End Vader section ##"
   ]
  },
  {
   "cell_type": "code",
   "execution_count": 154,
   "metadata": {},
   "outputs": [],
   "source": [
    "review_data_from_sql = standardize_text(review_data_from_sql, \"Review\")"
   ]
  },
  {
   "cell_type": "code",
   "execution_count": 155,
   "metadata": {},
   "outputs": [
    {
     "data": {
      "text/html": [
       "<div>\n",
       "<style scoped>\n",
       "    .dataframe tbody tr th:only-of-type {\n",
       "        vertical-align: middle;\n",
       "    }\n",
       "\n",
       "    .dataframe tbody tr th {\n",
       "        vertical-align: top;\n",
       "    }\n",
       "\n",
       "    .dataframe thead th {\n",
       "        text-align: right;\n",
       "    }\n",
       "</style>\n",
       "<table border=\"1\" class=\"dataframe\">\n",
       "  <thead>\n",
       "    <tr style=\"text-align: right;\">\n",
       "      <th></th>\n",
       "      <th>index</th>\n",
       "      <th>Review</th>\n",
       "      <th>Title</th>\n",
       "    </tr>\n",
       "  </thead>\n",
       "  <tbody>\n",
       "    <tr>\n",
       "      <th>0</th>\n",
       "      <td>0</td>\n",
       "      <td>love this salon! i was referred over by two of...</td>\n",
       "      <td>Urban Betty</td>\n",
       "    </tr>\n",
       "    <tr>\n",
       "      <th>1</th>\n",
       "      <td>1</td>\n",
       "      <td>came in for a summer haircut since my hair was...</td>\n",
       "      <td>Urban Betty</td>\n",
       "    </tr>\n",
       "    <tr>\n",
       "      <th>2</th>\n",
       "      <td>2</td>\n",
       "      <td>i recently moved and have been looking for a g...</td>\n",
       "      <td>Urban Betty</td>\n",
       "    </tr>\n",
       "    <tr>\n",
       "      <th>3</th>\n",
       "      <td>3</td>\n",
       "      <td>y'all stop what you are doing right now and go...</td>\n",
       "      <td>Urban Betty</td>\n",
       "    </tr>\n",
       "    <tr>\n",
       "      <th>4</th>\n",
       "      <td>4</td>\n",
       "      <td>love, love, love this place! i saw holly and s...</td>\n",
       "      <td>Urban Betty</td>\n",
       "    </tr>\n",
       "  </tbody>\n",
       "</table>\n",
       "</div>"
      ],
      "text/plain": [
       "   index                                             Review        Title\n",
       "0      0  love this salon! i was referred over by two of...  Urban Betty\n",
       "1      1  came in for a summer haircut since my hair was...  Urban Betty\n",
       "2      2  i recently moved and have been looking for a g...  Urban Betty\n",
       "3      3  y'all stop what you are doing right now and go...  Urban Betty\n",
       "4      4  love, love, love this place! i saw holly and s...  Urban Betty"
      ]
     },
     "execution_count": 155,
     "metadata": {},
     "output_type": "execute_result"
    }
   ],
   "source": [
    "review_data_from_sql.head()"
   ]
  },
  {
   "cell_type": "code",
   "execution_count": 75,
   "metadata": {},
   "outputs": [
    {
     "data": {
      "text/html": [
       "<div>\n",
       "<style scoped>\n",
       "    .dataframe tbody tr th:only-of-type {\n",
       "        vertical-align: middle;\n",
       "    }\n",
       "\n",
       "    .dataframe tbody tr th {\n",
       "        vertical-align: top;\n",
       "    }\n",
       "\n",
       "    .dataframe thead th {\n",
       "        text-align: right;\n",
       "    }\n",
       "</style>\n",
       "<table border=\"1\" class=\"dataframe\">\n",
       "  <thead>\n",
       "    <tr style=\"text-align: right;\">\n",
       "      <th></th>\n",
       "      <th>index</th>\n",
       "      <th>Review</th>\n",
       "      <th>Title</th>\n",
       "      <th>tokens</th>\n",
       "    </tr>\n",
       "  </thead>\n",
       "  <tbody>\n",
       "    <tr>\n",
       "      <th>0</th>\n",
       "      <td>0</td>\n",
       "      <td>Love this salon! I was referred over by two of...</td>\n",
       "      <td>Urban Betty</td>\n",
       "      <td>[Love, this, salon, I, was, referred, over, by...</td>\n",
       "    </tr>\n",
       "    <tr>\n",
       "      <th>1</th>\n",
       "      <td>1</td>\n",
       "      <td>Came in for a summer haircut since my hair was...</td>\n",
       "      <td>Urban Betty</td>\n",
       "      <td>[Came, in, for, a, summer, haircut, since, my,...</td>\n",
       "    </tr>\n",
       "    <tr>\n",
       "      <th>2</th>\n",
       "      <td>2</td>\n",
       "      <td>I recently moved and have been looking for a g...</td>\n",
       "      <td>Urban Betty</td>\n",
       "      <td>[I, recently, moved, and, have, been, looking,...</td>\n",
       "    </tr>\n",
       "    <tr>\n",
       "      <th>3</th>\n",
       "      <td>3</td>\n",
       "      <td>Y'all stop what you are doing right now and go...</td>\n",
       "      <td>Urban Betty</td>\n",
       "      <td>[Y, all, stop, what, you, are, doing, right, n...</td>\n",
       "    </tr>\n",
       "    <tr>\n",
       "      <th>4</th>\n",
       "      <td>4</td>\n",
       "      <td>Love, love, love this place! I saw Holly and s...</td>\n",
       "      <td>Urban Betty</td>\n",
       "      <td>[Love, love, love, this, place, I, saw, Holly,...</td>\n",
       "    </tr>\n",
       "  </tbody>\n",
       "</table>\n",
       "</div>"
      ],
      "text/plain": [
       "   index                                             Review        Title  \\\n",
       "0      0  Love this salon! I was referred over by two of...  Urban Betty   \n",
       "1      1  Came in for a summer haircut since my hair was...  Urban Betty   \n",
       "2      2  I recently moved and have been looking for a g...  Urban Betty   \n",
       "3      3  Y'all stop what you are doing right now and go...  Urban Betty   \n",
       "4      4  Love, love, love this place! I saw Holly and s...  Urban Betty   \n",
       "\n",
       "                                              tokens  \n",
       "0  [Love, this, salon, I, was, referred, over, by...  \n",
       "1  [Came, in, for, a, summer, haircut, since, my,...  \n",
       "2  [I, recently, moved, and, have, been, looking,...  \n",
       "3  [Y, all, stop, what, you, are, doing, right, n...  \n",
       "4  [Love, love, love, this, place, I, saw, Holly,...  "
      ]
     },
     "execution_count": 75,
     "metadata": {},
     "output_type": "execute_result"
    }
   ],
   "source": [
    "tokenizer = RegexpTokenizer(r'\\w+')\n",
    "\n",
    "review_data_from_sql[\"tokens\"] = review_data_from_sql[\"Review\"].apply(tokenizer.tokenize)\n",
    "review_data_from_sql.head()"
   ]
  },
  {
   "cell_type": "code",
   "execution_count": 76,
   "metadata": {},
   "outputs": [],
   "source": [
    "def clean_text(text):\n",
    "    # lower text\n",
    "    text = text.lower()\n",
    "    # tokenize text and remove puncutation\n",
    "    text = [word.strip(string.punctuation) for word in text.split(\" \")]\n",
    "    # remove words that contain numbers\n",
    "    text = [word for word in text if not any(c.isdigit() for c in word)]\n",
    "    # remove stop words\n",
    "    stop = stopwords.words('english')\n",
    "    text = [x for x in text if x not in stop]\n",
    "    # remove empty tokens\n",
    "    text = [t for t in text if len(t) > 0]\n",
    "    # pos tag text\n",
    "    pos_tags = pos_tag(text)\n",
    "    # lemmatize text\n",
    "    text = [WordNetLemmatizer().lemmatize(t[0], get_wordnet_pos(t[1])) for t in pos_tags]\n",
    "    # remove words with only one letter\n",
    "    text = [t for t in text if len(t) > 1]\n",
    "    # join all\n",
    "    text = \" \".join(text)\n",
    "    return(text)"
   ]
  },
  {
   "cell_type": "code",
   "execution_count": 77,
   "metadata": {},
   "outputs": [],
   "source": [
    "def get_wordnet_pos(pos_tag):\n",
    "    if pos_tag.startswith('J'):\n",
    "        return wordnet.ADJ\n",
    "    elif pos_tag.startswith('V'):\n",
    "        return wordnet.VERB\n",
    "    elif pos_tag.startswith('N'):\n",
    "        return wordnet.NOUN\n",
    "    elif pos_tag.startswith('R'):\n",
    "        return wordnet.ADV\n",
    "    else:\n",
    "        return wordnet.NOUN"
   ]
  },
  {
   "cell_type": "code",
   "execution_count": 92,
   "metadata": {},
   "outputs": [
    {
     "name": "stderr",
     "output_type": "stream",
     "text": [
      "[nltk_data] Downloading package stopwords to\n",
      "[nltk_data]     /home/cjdavis/nltk_data...\n",
      "[nltk_data]   Package stopwords is already up-to-date!\n",
      "[nltk_data] Downloading package averaged_perceptron_tagger to\n",
      "[nltk_data]     /home/cjdavis/nltk_data...\n",
      "[nltk_data]   Package averaged_perceptron_tagger is already up-to-\n",
      "[nltk_data]       date!\n",
      "[nltk_data] Downloading package wordnet to /home/cjdavis/nltk_data...\n",
      "[nltk_data]   Package wordnet is already up-to-date!\n",
      "[nltk_data] Downloading package vader_lexicon to\n",
      "[nltk_data]     /home/cjdavis/nltk_data...\n"
     ]
    },
    {
     "data": {
      "text/plain": [
       "True"
      ]
     },
     "execution_count": 92,
     "metadata": {},
     "output_type": "execute_result"
    }
   ],
   "source": [
    "nltk.download('stopwords')\n",
    "nltk.download('averaged_perceptron_tagger')\n",
    "nltk.download('wordnet')\n",
    "nltk.download('vader_lexicon')"
   ]
  },
  {
   "cell_type": "code",
   "execution_count": 79,
   "metadata": {},
   "outputs": [],
   "source": [
    "review_data_from_sql[\"Review_cleaned\"] = review_data_from_sql[\"Review\"].apply(lambda x: clean_text(x))"
   ]
  },
  {
   "cell_type": "code",
   "execution_count": 153,
   "metadata": {},
   "outputs": [
    {
     "data": {
      "text/html": [
       "<div>\n",
       "<style scoped>\n",
       "    .dataframe tbody tr th:only-of-type {\n",
       "        vertical-align: middle;\n",
       "    }\n",
       "\n",
       "    .dataframe tbody tr th {\n",
       "        vertical-align: top;\n",
       "    }\n",
       "\n",
       "    .dataframe thead th {\n",
       "        text-align: right;\n",
       "    }\n",
       "</style>\n",
       "<table border=\"1\" class=\"dataframe\">\n",
       "  <thead>\n",
       "    <tr style=\"text-align: right;\">\n",
       "      <th></th>\n",
       "      <th>index</th>\n",
       "      <th>Review</th>\n",
       "      <th>Title</th>\n",
       "    </tr>\n",
       "  </thead>\n",
       "  <tbody>\n",
       "    <tr>\n",
       "      <th>0</th>\n",
       "      <td>0</td>\n",
       "      <td>Love this salon! I was referred over by two of...</td>\n",
       "      <td>Urban Betty</td>\n",
       "    </tr>\n",
       "    <tr>\n",
       "      <th>1</th>\n",
       "      <td>1</td>\n",
       "      <td>Came in for a summer haircut since my hair was...</td>\n",
       "      <td>Urban Betty</td>\n",
       "    </tr>\n",
       "    <tr>\n",
       "      <th>2</th>\n",
       "      <td>2</td>\n",
       "      <td>I recently moved and have been looking for a g...</td>\n",
       "      <td>Urban Betty</td>\n",
       "    </tr>\n",
       "    <tr>\n",
       "      <th>3</th>\n",
       "      <td>3</td>\n",
       "      <td>Y'all stop what you are doing right now and go...</td>\n",
       "      <td>Urban Betty</td>\n",
       "    </tr>\n",
       "    <tr>\n",
       "      <th>4</th>\n",
       "      <td>4</td>\n",
       "      <td>Love, love, love this place! I saw Holly and s...</td>\n",
       "      <td>Urban Betty</td>\n",
       "    </tr>\n",
       "  </tbody>\n",
       "</table>\n",
       "</div>"
      ],
      "text/plain": [
       "   index                                             Review        Title\n",
       "0      0  Love this salon! I was referred over by two of...  Urban Betty\n",
       "1      1  Came in for a summer haircut since my hair was...  Urban Betty\n",
       "2      2  I recently moved and have been looking for a g...  Urban Betty\n",
       "3      3  Y'all stop what you are doing right now and go...  Urban Betty\n",
       "4      4  Love, love, love this place! I saw Holly and s...  Urban Betty"
      ]
     },
     "execution_count": 153,
     "metadata": {},
     "output_type": "execute_result"
    }
   ],
   "source": [
    "review_data_from_sql.head()"
   ]
  },
  {
   "cell_type": "code",
   "execution_count": 17,
   "metadata": {},
   "outputs": [
    {
     "name": "stdout",
     "output_type": "stream",
     "text": [
      "2122519 words total, with a vocabulary size of 23153\n",
      "Max sentence length is 1038\n"
     ]
    }
   ],
   "source": [
    "all_words = [word for tokens in review_data_from_sql[\"tokens\"] for word in tokens]\n",
    "sentence_lengths = [len(tokens) for tokens in review_data_from_sql[\"tokens\"]]\n",
    "VOCAB = sorted(list(set(all_words)))\n",
    "print(\"%s words total, with a vocabulary size of %s\" % (len(all_words), len(VOCAB)))\n",
    "print(\"Max sentence length is %s\" % max(sentence_lengths))"
   ]
  },
  {
   "cell_type": "code",
   "execution_count": 20,
   "metadata": {},
   "outputs": [
    {
     "data": {
      "image/png": "[encoded data removed]",
      "text/plain": [
       "<Figure size 720x720 with 1 Axes>"
      ]
     },
     "metadata": {
      "needs_background": "light"
     },
     "output_type": "display_data"
    }
   ],
   "source": [
    "fig = plt.figure(figsize=(10, 10)) \n",
    "plt.xlabel('Sentence length')\n",
    "plt.ylabel('Number of sentences')\n",
    "plt.hist(sentence_lengths, bins=100)\n",
    "plt.show()"
   ]
  },
  {
   "cell_type": "code",
   "execution_count": 99,
   "metadata": {},
   "outputs": [],
   "source": [
    "reviews_by_title[\"Review\"] = review_data_from_sql.groupby(\"Title\").Review.apply(lambda x: \" \".join(x))"
   ]
  },
  {
   "cell_type": "code",
   "execution_count": 122,
   "metadata": {},
   "outputs": [
    {
     "data": {
      "text/plain": [
       "Title\n",
       "4001 Duval Hair Salon    I was looking for a new hair stylist when my S...\n",
       "A Carter T Lund Salon    The best salon experience I've ever had. Have ...\n",
       "ACES Salon               If you have curly hair, go see Katy Lee (Delga...\n",
       "AMZ Salon                I really like this place. I get my hair done h...\n",
       "ATX Bridal Beauty        Cannot say enough great things about Jessi and...\n",
       "Name: Review, dtype: object"
      ]
     },
     "execution_count": 122,
     "metadata": {},
     "output_type": "execute_result"
    }
   ],
   "source": [
    "reviews_by_title.head()"
   ]
  },
  {
   "cell_type": "code",
   "execution_count": 130,
   "metadata": {},
   "outputs": [
    {
     "data": {
      "text/html": [
       "<div>\n",
       "<style scoped>\n",
       "    .dataframe tbody tr th:only-of-type {\n",
       "        vertical-align: middle;\n",
       "    }\n",
       "\n",
       "    .dataframe tbody tr th {\n",
       "        vertical-align: top;\n",
       "    }\n",
       "\n",
       "    .dataframe thead th {\n",
       "        text-align: right;\n",
       "    }\n",
       "</style>\n",
       "<table border=\"1\" class=\"dataframe\">\n",
       "  <thead>\n",
       "    <tr style=\"text-align: right;\">\n",
       "      <th></th>\n",
       "      <th>Review</th>\n",
       "    </tr>\n",
       "    <tr>\n",
       "      <th>Title</th>\n",
       "      <th></th>\n",
       "    </tr>\n",
       "  </thead>\n",
       "  <tbody>\n",
       "    <tr>\n",
       "      <th>4001 Duval Hair Salon</th>\n",
       "      <td>I was looking for a new hair stylist when my S...</td>\n",
       "    </tr>\n",
       "    <tr>\n",
       "      <th>A Carter T Lund Salon</th>\n",
       "      <td>The best salon experience I've ever had. Have ...</td>\n",
       "    </tr>\n",
       "    <tr>\n",
       "      <th>ACES Salon</th>\n",
       "      <td>If you have curly hair, go see Katy Lee (Delga...</td>\n",
       "    </tr>\n",
       "    <tr>\n",
       "      <th>AMZ Salon</th>\n",
       "      <td>I really like this place. I get my hair done h...</td>\n",
       "    </tr>\n",
       "    <tr>\n",
       "      <th>ATX Bridal Beauty</th>\n",
       "      <td>Cannot say enough great things about Jessi and...</td>\n",
       "    </tr>\n",
       "  </tbody>\n",
       "</table>\n",
       "</div>"
      ],
      "text/plain": [
       "                                                                  Review\n",
       "Title                                                                   \n",
       "4001 Duval Hair Salon  I was looking for a new hair stylist when my S...\n",
       "A Carter T Lund Salon  The best salon experience I've ever had. Have ...\n",
       "ACES Salon             If you have curly hair, go see Katy Lee (Delga...\n",
       "AMZ Salon              I really like this place. I get my hair done h...\n",
       "ATX Bridal Beauty      Cannot say enough great things about Jessi and..."
      ]
     },
     "execution_count": 130,
     "metadata": {},
     "output_type": "execute_result"
    }
   ],
   "source": [
    "review_df = reviews_by_title.to_frame()\n",
    "review_df.head()"
   ]
  }
 ],
 "metadata": {
  "kernelspec": {
   "display_name": "Python 3",
   "language": "python",
   "name": "python3"
  },
  "language_info": {
   "codemirror_mode": {
    "name": "ipython",
    "version": 3
   },
   "file_extension": ".py",
   "mimetype": "text/x-python",
   "name": "python",
   "nbconvert_exporter": "python",
   "pygments_lexer": "ipython3",
   "version": "3.7.3"
  }
 },
 "nbformat": 4,
 "nbformat_minor": 2
}
