{
 "cells": [
  {
   "cell_type": "code",
   "execution_count": 1,
   "metadata": {},
   "outputs": [
    {
     "name": "stderr",
     "output_type": "stream",
     "text": [
      "/home/cjdavis/anaconda3/envs/insight/lib/python3.7/site-packages/sqlalchemy/sql/functions.py:68: SAWarning: The GenericFunction 'array_agg' is already registered and is going to be overriden.\n",
      "  \"is going to be overriden.\".format(identifier))\n"
     ]
    }
   ],
   "source": [
    "from flask import Flask, render_template, request\n",
    "import requests\n",
    "import pandas as pd\n",
    "import re\n",
    "from sqlalchemy import create_engine\n",
    "from sqlalchemy_utils import database_exists, create_database\n",
    "import psycopg2\n",
    "import pandas as pd\n",
    "import nltk\n",
    "from nltk import pos_tag\n",
    "from nltk import tokenize\n",
    "from nltk.tokenize import RegexpTokenizer\n",
    "from nltk.corpus import stopwords\n",
    "from nltk.corpus import wordnet\n",
    "from nltk.tokenize import WhitespaceTokenizer\n",
    "from nltk.stem import WordNetLemmatizer\n",
    "import matplotlib.pyplot as plt\n",
    "import string\n",
    "from nltk.sentiment import SentimentIntensityAnalyzer\n",
    "from sklearn.metrics import accuracy_score"
   ]
  },
  {
   "cell_type": "code",
   "execution_count": 165,
   "metadata": {},
   "outputs": [],
   "source": [
    "def parse_for_word(row, keyword):\n",
    "    has_keyword = 0\n",
    "    text = row[\"Review\"]\n",
    "    #print (text + \"\\n\")\n",
    "    average_sentiment = 0\n",
    "    for word in text.split(\" \"):\n",
    "        if keyword in word:\n",
    "            has_keyword = 1\n",
    "    if (has_keyword > 0):\n",
    "        sentence_list, average_sentiment = get_sentences_with_word(text, keyword)\n",
    "    else:\n",
    "        sentence_list = []\n",
    "        combined_score = 0\n",
    "    return has_keyword, sentence_list, average_sentiment\n",
    "\n",
    "def get_sentences_with_word(text, keyword):\n",
    "    average_sentiment = 0\n",
    "    number_of_sentences = 0\n",
    "    list_of_sentences = []\n",
    "    #print(text)\n",
    "    sentences = tokenize.sent_tokenize(text)\n",
    "    for sentence in sentences:\n",
    "        #print (sentence)\n",
    "        if keyword in sentence:\n",
    "            list_of_sentences.append(sentence)\n",
    "            number_of_sentences = number_of_sentences + 1\n",
    "            sentiment = get_sentiment(sentence)\n",
    "            #print(sentence, sentiment)\n",
    "    average_sentiment = float(sentiment / number_of_sentences)\n",
    "    return list_of_sentences, average_sentiment\n",
    "\n",
    "def get_sentiment(text):\n",
    "    sentiment = SentimentIntensityAnalyzer() #### calling Intensity Analyzer\n",
    "    compound = sentiment.polarity_scores(text)['compound']  ### calling the 'compound' score for the \"text\" entered\n",
    "    #if compound > 0:\n",
    "    #    return 1  ## positive\n",
    "    #else:\n",
    "    #    return 0 ## negative\n",
    "    #else:\n",
    "        #return \"Neutral\"     \n",
    "    #print(compound)\n",
    "    return compound"
   ]
  },
  {
   "cell_type": "code",
   "execution_count": 98,
   "metadata": {},
   "outputs": [],
   "source": [
    "f=open(\"db.txt\", \"r\")\n",
    "contents=0\n",
    "if not(contents):\n",
    "    contents = f.read()\n",
    "username = contents.split(\"\\n\")[0]\n",
    "password = contents.split(\"\\n\")[1]\n",
    "dbname_photos = 'photos_db'\n",
    "dbname_reviews = \"reviews_db\""
   ]
  },
  {
   "cell_type": "code",
   "execution_count": 194,
   "metadata": {},
   "outputs": [],
   "source": [
    "con = psycopg2.connect(database = dbname_reviews, user = username, password = password, port=5432, host= \"/var/run/postgresql/\")\n",
    "sql_query_reviews = \"\"\"\n",
    "SELECT * FROM reviews_data_table;\n",
    "\"\"\"\n",
    "reviews_data_from_sql = pd.read_sql_query(sql_query_reviews,con)\n",
    "con.close()"
   ]
  },
  {
   "cell_type": "code",
   "execution_count": 190,
   "metadata": {},
   "outputs": [],
   "source": [
    "keyword = \"parking\""
   ]
  },
  {
   "cell_type": "code",
   "execution_count": 195,
   "metadata": {},
   "outputs": [
    {
     "name": "stdout",
     "output_type": "stream",
     "text": [
      "(17427, 3)\n",
      "(16111, 3)\n"
     ]
    }
   ],
   "source": [
    "reviews_data_from_sql = reviews_data_from_sql.drop(axis = 1, columns=[\"index\"])\n",
    "print(reviews_data_from_sql.shape)\n",
    "print(reviews_data_from_sql.drop_duplicates().shape)\n",
    "reviews_data_from_sql = reviews_data_from_sql.drop_duplicates()"
   ]
  },
  {
   "cell_type": "code",
   "execution_count": 196,
   "metadata": {},
   "outputs": [
    {
     "name": "stdout",
     "output_type": "stream",
     "text": [
      "CPU times: user 3.72 s, sys: 469 ms, total: 4.19 s\n",
      "Wall time: 4.25 s\n"
     ]
    }
   ],
   "source": [
    "%%time\n",
    "reviews_data_from_sql[\"has_keyword\"], reviews_data_from_sql[\"sentence_list\"], reviews_data_from_sql[\"average_sentiment_sentence\"] = zip(*reviews_data_from_sql.apply(parse_for_word, keyword = keyword, axis=1))"
   ]
  },
  {
   "cell_type": "code",
   "execution_count": 197,
   "metadata": {},
   "outputs": [
    {
     "data": {
      "text/html": [
       "<div>\n",
       "<style scoped>\n",
       "    .dataframe tbody tr th:only-of-type {\n",
       "        vertical-align: middle;\n",
       "    }\n",
       "\n",
       "    .dataframe tbody tr th {\n",
       "        vertical-align: top;\n",
       "    }\n",
       "\n",
       "    .dataframe thead th {\n",
       "        text-align: right;\n",
       "    }\n",
       "</style>\n",
       "<table border=\"1\" class=\"dataframe\">\n",
       "  <thead>\n",
       "    <tr style=\"text-align: right;\">\n",
       "      <th></th>\n",
       "      <th>Review</th>\n",
       "      <th>Title</th>\n",
       "      <th>sentiment_vader</th>\n",
       "      <th>has_keyword</th>\n",
       "      <th>sentence_list</th>\n",
       "      <th>average_sentiment_sentence</th>\n",
       "    </tr>\n",
       "  </thead>\n",
       "  <tbody>\n",
       "    <tr>\n",
       "      <th>0</th>\n",
       "      <td>Love this salon! I was referred over by two of...</td>\n",
       "      <td>Urban Betty</td>\n",
       "      <td>0.9746</td>\n",
       "      <td>0</td>\n",
       "      <td>[]</td>\n",
       "      <td>0.0</td>\n",
       "    </tr>\n",
       "    <tr>\n",
       "      <th>1</th>\n",
       "      <td>Came in for a summer haircut since my hair was...</td>\n",
       "      <td>Urban Betty</td>\n",
       "      <td>0.9560</td>\n",
       "      <td>0</td>\n",
       "      <td>[]</td>\n",
       "      <td>0.0</td>\n",
       "    </tr>\n",
       "    <tr>\n",
       "      <th>2</th>\n",
       "      <td>I recently moved and have been looking for a g...</td>\n",
       "      <td>Urban Betty</td>\n",
       "      <td>-0.9035</td>\n",
       "      <td>0</td>\n",
       "      <td>[]</td>\n",
       "      <td>0.0</td>\n",
       "    </tr>\n",
       "    <tr>\n",
       "      <th>3</th>\n",
       "      <td>Y'all stop what you are doing right now and go...</td>\n",
       "      <td>Urban Betty</td>\n",
       "      <td>0.9911</td>\n",
       "      <td>0</td>\n",
       "      <td>[]</td>\n",
       "      <td>0.0</td>\n",
       "    </tr>\n",
       "    <tr>\n",
       "      <th>4</th>\n",
       "      <td>Love, love, love this place! I saw Holly and s...</td>\n",
       "      <td>Urban Betty</td>\n",
       "      <td>0.9844</td>\n",
       "      <td>0</td>\n",
       "      <td>[]</td>\n",
       "      <td>0.0</td>\n",
       "    </tr>\n",
       "  </tbody>\n",
       "</table>\n",
       "</div>"
      ],
      "text/plain": [
       "                                              Review        Title  \\\n",
       "0  Love this salon! I was referred over by two of...  Urban Betty   \n",
       "1  Came in for a summer haircut since my hair was...  Urban Betty   \n",
       "2  I recently moved and have been looking for a g...  Urban Betty   \n",
       "3  Y'all stop what you are doing right now and go...  Urban Betty   \n",
       "4  Love, love, love this place! I saw Holly and s...  Urban Betty   \n",
       "\n",
       "   sentiment_vader  has_keyword sentence_list  average_sentiment_sentence  \n",
       "0           0.9746            0            []                         0.0  \n",
       "1           0.9560            0            []                         0.0  \n",
       "2          -0.9035            0            []                         0.0  \n",
       "3           0.9911            0            []                         0.0  \n",
       "4           0.9844            0            []                         0.0  "
      ]
     },
     "execution_count": 197,
     "metadata": {},
     "output_type": "execute_result"
    }
   ],
   "source": [
    "reviews_data_from_sql.head()"
   ]
  },
  {
   "cell_type": "code",
   "execution_count": 198,
   "metadata": {},
   "outputs": [
    {
     "data": {
      "text/plain": [
       "0.0"
      ]
     },
     "execution_count": 198,
     "metadata": {},
     "output_type": "execute_result"
    }
   ],
   "source": [
    "# remove rows where the keyword doesn't occur\n",
    "reviews_data_from_sql = reviews_data_from_sql[reviews_data_from_sql.has_keyword != 0]\n",
    "reviews_data_from_sql.head()\n",
    "reviews_data_from_sql.iloc[0][5]"
   ]
  },
  {
   "cell_type": "code",
   "execution_count": 201,
   "metadata": {},
   "outputs": [
    {
     "data": {
      "text/html": [
       "<div>\n",
       "<style scoped>\n",
       "    .dataframe tbody tr th:only-of-type {\n",
       "        vertical-align: middle;\n",
       "    }\n",
       "\n",
       "    .dataframe tbody tr th {\n",
       "        vertical-align: top;\n",
       "    }\n",
       "\n",
       "    .dataframe thead th {\n",
       "        text-align: right;\n",
       "    }\n",
       "</style>\n",
       "<table border=\"1\" class=\"dataframe\">\n",
       "  <thead>\n",
       "    <tr style=\"text-align: right;\">\n",
       "      <th></th>\n",
       "      <th>has_keyword_sum</th>\n",
       "      <th>average_sentiment_sentence_average</th>\n",
       "      <th>sentiment_vader_average</th>\n",
       "      <th>sentence_list_combined</th>\n",
       "      <th>Review_sum</th>\n",
       "    </tr>\n",
       "    <tr>\n",
       "      <th>Title</th>\n",
       "      <th></th>\n",
       "      <th></th>\n",
       "      <th></th>\n",
       "      <th></th>\n",
       "      <th></th>\n",
       "    </tr>\n",
       "  </thead>\n",
       "  <tbody>\n",
       "    <tr>\n",
       "      <th>Red Stella Hair Salon</th>\n",
       "      <td>16</td>\n",
       "      <td>0.455166</td>\n",
       "      <td>0.973469</td>\n",
       "      <td>[The car entrance and parking is underground.,...</td>\n",
       "      <td>I met with Sarah C who is a friend of a friend...</td>\n",
       "    </tr>\n",
       "    <tr>\n",
       "      <th>Jose Luis Salon &amp; Boutique</th>\n",
       "      <td>16</td>\n",
       "      <td>0.454506</td>\n",
       "      <td>0.940750</td>\n",
       "      <td>[I never had an issue finding a parking spot i...</td>\n",
       "      <td>Surprised I have not written a review since I ...</td>\n",
       "    </tr>\n",
       "    <tr>\n",
       "      <th>WaterStone Salon</th>\n",
       "      <td>12</td>\n",
       "      <td>0.586767</td>\n",
       "      <td>0.939058</td>\n",
       "      <td>[Easy parking too., They offer free covered pa...</td>\n",
       "      <td>This salon is a great facility with fantastic ...</td>\n",
       "    </tr>\n",
       "    <tr>\n",
       "      <th>Frenchy’s Beauty Parlor</th>\n",
       "      <td>12</td>\n",
       "      <td>-0.000896</td>\n",
       "      <td>0.782808</td>\n",
       "      <td>[I would highly recommend a trip to Frenchy's ...</td>\n",
       "      <td>An overdue review for Sandy! As an Austin newb...</td>\n",
       "    </tr>\n",
       "    <tr>\n",
       "      <th>Urban Betty</th>\n",
       "      <td>11</td>\n",
       "      <td>0.295627</td>\n",
       "      <td>0.954182</td>\n",
       "      <td>[When I arrived, parking was convenient as was...</td>\n",
       "      <td>Just finished up with my appointment with Tara...</td>\n",
       "    </tr>\n",
       "  </tbody>\n",
       "</table>\n",
       "</div>"
      ],
      "text/plain": [
       "                            has_keyword_sum  \\\n",
       "Title                                         \n",
       "Red Stella Hair Salon                    16   \n",
       "Jose Luis Salon & Boutique               16   \n",
       "WaterStone Salon                         12   \n",
       "Frenchy’s Beauty Parlor                  12   \n",
       "Urban Betty                              11   \n",
       "\n",
       "                            average_sentiment_sentence_average  \\\n",
       "Title                                                            \n",
       "Red Stella Hair Salon                                 0.455166   \n",
       "Jose Luis Salon & Boutique                            0.454506   \n",
       "WaterStone Salon                                      0.586767   \n",
       "Frenchy’s Beauty Parlor                              -0.000896   \n",
       "Urban Betty                                           0.295627   \n",
       "\n",
       "                            sentiment_vader_average  \\\n",
       "Title                                                 \n",
       "Red Stella Hair Salon                      0.973469   \n",
       "Jose Luis Salon & Boutique                 0.940750   \n",
       "WaterStone Salon                           0.939058   \n",
       "Frenchy’s Beauty Parlor                    0.782808   \n",
       "Urban Betty                                0.954182   \n",
       "\n",
       "                                                       sentence_list_combined  \\\n",
       "Title                                                                           \n",
       "Red Stella Hair Salon       [The car entrance and parking is underground.,...   \n",
       "Jose Luis Salon & Boutique  [I never had an issue finding a parking spot i...   \n",
       "WaterStone Salon            [Easy parking too., They offer free covered pa...   \n",
       "Frenchy’s Beauty Parlor     [I would highly recommend a trip to Frenchy's ...   \n",
       "Urban Betty                 [When I arrived, parking was convenient as was...   \n",
       "\n",
       "                                                                   Review_sum  \n",
       "Title                                                                          \n",
       "Red Stella Hair Salon       I met with Sarah C who is a friend of a friend...  \n",
       "Jose Luis Salon & Boutique  Surprised I have not written a review since I ...  \n",
       "WaterStone Salon            This salon is a great facility with fantastic ...  \n",
       "Frenchy’s Beauty Parlor     An overdue review for Sandy! As an Austin newb...  \n",
       "Urban Betty                 Just finished up with my appointment with Tara...  "
      ]
     },
     "execution_count": 201,
     "metadata": {},
     "output_type": "execute_result"
    }
   ],
   "source": [
    "d = {'has_keyword':'has_keyword_sum', 'average_sentiment_sentence':'average_sentiment_sentence_average',\n",
    "     'sentiment_vader':'sentiment_vader_average', 'sentence_list':'sentence_list_combined',\n",
    "     'Review': 'Review_sum'}\n",
    "sorted_mean_by_Title=reviews_data_from_sql.groupby('Title').agg({'has_keyword':'sum',\n",
    "                                                                'average_sentiment_sentence':'mean',\n",
    "                                                                'sentiment_vader':'mean',\n",
    "                                                                'sentence_list':'sum',\n",
    "                                                                'Review':'sum'}).rename(columns=d)\n",
    "sorted_mean_by_Title.sort_values(by=['has_keyword_sum'], ascending=False, inplace=True)\n",
    "sorted_mean_by_Title.head(5)"
   ]
  },
  {
   "cell_type": "code",
   "execution_count": 202,
   "metadata": {},
   "outputs": [],
   "source": [
    "def scaled_combined_score(row):\n",
    "    # get the values\n",
    "    sentiment_score = float(row[\"average_sentiment_sentence_average\"])\n",
    "    has_keyword_sum = int(row[\"has_keyword_sum\"])\n",
    "    sentiment_vader = float(row[\"sentiment_vader_average\"])\n",
    "    # update the sentiment value\n",
    "    return (combined_function(has_keyword_sum, sentiment_score, sentiment_vader))\n",
    "\n",
    "def combined_function(has_keyword_sum, sentiment_score, sentiment_vader):\n",
    "    weight = 0\n",
    "    if (has_keyword_sum >= 3):\n",
    "        weight = 0.7\n",
    "    else:\n",
    "        alpha = -0.07777\n",
    "        beta = 0.46666\n",
    "        weight = alpha * has_keyword_sum * has_keyword_sum + beta * has_keyword_sum\n",
    "        #print(weight)\n",
    "    #print(weight, sentiment_score, sentiment_vader)\n",
    "    return weight * sentiment_score + 0.3 * sentiment_vader"
   ]
  },
  {
   "cell_type": "code",
   "execution_count": 209,
   "metadata": {},
   "outputs": [
    {
     "data": {
      "text/html": [
       "<div>\n",
       "<style scoped>\n",
       "    .dataframe tbody tr th:only-of-type {\n",
       "        vertical-align: middle;\n",
       "    }\n",
       "\n",
       "    .dataframe tbody tr th {\n",
       "        vertical-align: top;\n",
       "    }\n",
       "\n",
       "    .dataframe thead th {\n",
       "        text-align: right;\n",
       "    }\n",
       "</style>\n",
       "<table border=\"1\" class=\"dataframe\">\n",
       "  <thead>\n",
       "    <tr style=\"text-align: right;\">\n",
       "      <th></th>\n",
       "      <th>has_keyword_sum</th>\n",
       "      <th>average_sentiment_sentence_average</th>\n",
       "      <th>sentiment_vader_average</th>\n",
       "      <th>sentence_list_combined</th>\n",
       "      <th>Review_sum</th>\n",
       "      <th>final_score</th>\n",
       "    </tr>\n",
       "    <tr>\n",
       "      <th>Title</th>\n",
       "      <th></th>\n",
       "      <th></th>\n",
       "      <th></th>\n",
       "      <th></th>\n",
       "      <th></th>\n",
       "      <th></th>\n",
       "    </tr>\n",
       "  </thead>\n",
       "  <tbody>\n",
       "    <tr>\n",
       "      <th>Thomas Saverio Salon</th>\n",
       "      <td>2</td>\n",
       "      <td>0.85855</td>\n",
       "      <td>0.988300</td>\n",
       "      <td>[Another Kerastase salon, Thomas Serverio is v...</td>\n",
       "      <td>My beautiful and talented hair wizard, Jessica...</td>\n",
       "      <td>0.830714</td>\n",
       "    </tr>\n",
       "    <tr>\n",
       "      <th>Urban Hair</th>\n",
       "      <td>4</td>\n",
       "      <td>0.75155</td>\n",
       "      <td>0.984325</td>\n",
       "      <td>[Every stylist is friendly and the location ha...</td>\n",
       "      <td>I love everything about this salon. It's super...</td>\n",
       "      <td>0.821382</td>\n",
       "    </tr>\n",
       "    <tr>\n",
       "      <th>The Rusty Shears</th>\n",
       "      <td>2</td>\n",
       "      <td>0.82470</td>\n",
       "      <td>0.936850</td>\n",
       "      <td>[Plenty of parking, relaxing environment, Very...</td>\n",
       "      <td>Justin was very personable and professional. H...</td>\n",
       "      <td>0.794216</td>\n",
       "    </tr>\n",
       "    <tr>\n",
       "      <th>Zig Zag Salon</th>\n",
       "      <td>2</td>\n",
       "      <td>0.77810</td>\n",
       "      <td>0.990150</td>\n",
       "      <td>[Zig Zag caught my attention because it was cl...</td>\n",
       "      <td>I've been going to the same hair stylist in Ho...</td>\n",
       "      <td>0.781210</td>\n",
       "    </tr>\n",
       "    <tr>\n",
       "      <th>L7 Salon</th>\n",
       "      <td>6</td>\n",
       "      <td>0.68640</td>\n",
       "      <td>0.986517</td>\n",
       "      <td>[And best of all, you won't have to empty your...</td>\n",
       "      <td>Jillian does an incredible job with blonde hig...</td>\n",
       "      <td>0.776435</td>\n",
       "    </tr>\n",
       "  </tbody>\n",
       "</table>\n",
       "</div>"
      ],
      "text/plain": [
       "                      has_keyword_sum  average_sentiment_sentence_average  \\\n",
       "Title                                                                       \n",
       "Thomas Saverio Salon                2                             0.85855   \n",
       "Urban Hair                          4                             0.75155   \n",
       "The Rusty Shears                    2                             0.82470   \n",
       "Zig Zag Salon                       2                             0.77810   \n",
       "L7 Salon                            6                             0.68640   \n",
       "\n",
       "                      sentiment_vader_average  \\\n",
       "Title                                           \n",
       "Thomas Saverio Salon                 0.988300   \n",
       "Urban Hair                           0.984325   \n",
       "The Rusty Shears                     0.936850   \n",
       "Zig Zag Salon                        0.990150   \n",
       "L7 Salon                             0.986517   \n",
       "\n",
       "                                                 sentence_list_combined  \\\n",
       "Title                                                                     \n",
       "Thomas Saverio Salon  [Another Kerastase salon, Thomas Serverio is v...   \n",
       "Urban Hair            [Every stylist is friendly and the location ha...   \n",
       "The Rusty Shears      [Plenty of parking, relaxing environment, Very...   \n",
       "Zig Zag Salon         [Zig Zag caught my attention because it was cl...   \n",
       "L7 Salon              [And best of all, you won't have to empty your...   \n",
       "\n",
       "                                                             Review_sum  \\\n",
       "Title                                                                     \n",
       "Thomas Saverio Salon  My beautiful and talented hair wizard, Jessica...   \n",
       "Urban Hair            I love everything about this salon. It's super...   \n",
       "The Rusty Shears      Justin was very personable and professional. H...   \n",
       "Zig Zag Salon         I've been going to the same hair stylist in Ho...   \n",
       "L7 Salon              Jillian does an incredible job with blonde hig...   \n",
       "\n",
       "                      final_score  \n",
       "Title                              \n",
       "Thomas Saverio Salon     0.830714  \n",
       "Urban Hair               0.821382  \n",
       "The Rusty Shears         0.794216  \n",
       "Zig Zag Salon            0.781210  \n",
       "L7 Salon                 0.776435  "
      ]
     },
     "execution_count": 209,
     "metadata": {},
     "output_type": "execute_result"
    }
   ],
   "source": [
    "sorted_mean_by_Title['final_score'] = sorted_mean_by_Title.apply(scaled_combined_score, axis=1)\n",
    "sorted_review_data = sorted_mean_by_Title.sort_values(by=['final_score'], ascending=False)\n",
    "sorted_review_data.head(5)"
   ]
  },
  {
   "cell_type": "code",
   "execution_count": 212,
   "metadata": {},
   "outputs": [
    {
     "data": {
      "text/plain": [
       "\"My beautiful and talented hair wizard, Jessica Taylor (formerly of Saks Salon and Jose Luis) has just moved to Thomas Saverio at Parkcrest, and I was her first client! I would follow Jessica to the ends of the earth to keep my hair gorgeous and healthy. Another Kerastase salon, Thomas Serverio is very convenient, easy parking, and the shampoo bowls are the best! You get to LIE DOWN and your neck is supported by your head. So much more comfortable than anywhere else. Jessic is magic with blondes, and my Barbie locks are testament to her expertise! She's also a sweetheart, and I so enjoy our time together! xoxI wanted to wait to make sure my second hair cut was as good as the first and if anything it was even better! Ever since I moved to Austin I felt like no one was cutting my hair as well as in New York even though I was paying the same amount of money which was super frustrating. At my first appointment, Ruben took the time to talk to me about what I was unhappy with and what I really wanted. Both times he gave me really perfect haircuts that grew out well and are easy to style. The salon: very clean, very beautiful, and easy parking. The staff always offers a beverage and the waiting chairs are comfy if you are there early. I definitely recommend Ruben for anyone who wants gorgeous hair.\""
      ]
     },
     "execution_count": 212,
     "metadata": {},
     "output_type": "execute_result"
    }
   ],
   "source": [
    "sorted_review_data.iloc[0][4]"
   ]
  },
  {
   "cell_type": "code",
   "execution_count": 204,
   "metadata": {},
   "outputs": [
    {
     "data": {
      "text/plain": [
       "<matplotlib.axes._subplots.AxesSubplot at 0x7feb2604bdd8>"
      ]
     },
     "execution_count": 204,
     "metadata": {},
     "output_type": "execute_result"
    },
    {
     "data": {
      "image/png": "[encoded data removed]",
      "text/plain": [
       "<Figure size 432x288 with 1 Axes>"
      ]
     },
     "metadata": {
      "needs_background": "light"
     },
     "output_type": "display_data"
    }
   ],
   "source": [
    "sorted_mean_by_Title.final_score.plot.hist(bins = 100, xlim=[0, 1])"
   ]
  }
 ],
 "metadata": {
  "kernelspec": {
   "display_name": "Python 3",
   "language": "python",
   "name": "python3"
  },
  "language_info": {
   "codemirror_mode": {
    "name": "ipython",
    "version": 3
   },
   "file_extension": ".py",
   "mimetype": "text/x-python",
   "name": "python",
   "nbconvert_exporter": "python",
   "pygments_lexer": "ipython3",
   "version": "3.7.3"
  }
 },
 "nbformat": 4,
 "nbformat_minor": 2
}
