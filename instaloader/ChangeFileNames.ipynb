{
 "cells": [
  {
   "cell_type": "code",
   "execution_count": 4,
   "metadata": {},
   "outputs": [],
   "source": [
    "import os\n",
    "import subprocess"
   ]
  },
  {
   "cell_type": "code",
   "execution_count": 8,
   "metadata": {},
   "outputs": [
    {
     "name": "stdout",
     "output_type": "stream",
     "text": [
      "b'/home/cjdavis/insight\\n'\n"
     ]
    }
   ],
   "source": [
    "result = subprocess.check_output(\"pwd\", shell=True)\n",
    "print (result)"
   ]
  },
  {
   "cell_type": "code",
   "execution_count": 47,
   "metadata": {},
   "outputs": [],
   "source": [
    "blonde_photos_path = \"/home/cjdavis/insight/instaloader/blonde/\"\n",
    "blonde_photos_names = os.listdir(blonde_photos_path)"
   ]
  },
  {
   "cell_type": "code",
   "execution_count": 17,
   "metadata": {},
   "outputs": [],
   "source": [
    "brunette_photos_path = \"/home/cjdavis/insight/instaloader/brunette/\"\n",
    "brunette_photos_names = os.listdir(brunette_photos_path)"
   ]
  },
  {
   "cell_type": "code",
   "execution_count": 18,
   "metadata": {},
   "outputs": [],
   "source": [
    "random_photos_path = \"/home/cjdavis/insight/instaloader/random/\"\n",
    "random_photos_names = os.listdir(random_photos_path)"
   ]
  },
  {
   "cell_type": "code",
   "execution_count": 48,
   "metadata": {},
   "outputs": [],
   "source": [
    "def move_files_to_classifier_dir(classifier, photos_names, photos_path):\n",
    "    directory_path = \"/home/cjdavis/insight/instaloader/hair_photos/\" # the location for the photos to go to\n",
    "    x = 0 # numbering the file\n",
    "    for photo in photos_names:\n",
    "        file_location = photos_path + photo\n",
    "        end_location = directory_path + classifier + \"_\" + str(x) + \".jpg\"\n",
    "        #print(file_location, end_location)\n",
    "        #print(\"cp %s %s\" %(file_location, end_location))\n",
    "        os.system(\"cp %s %s\" %(file_location, end_location))\n",
    "        x = x + 1\n",
    "    print (\"moved %s files\" %(x))"
   ]
  },
  {
   "cell_type": "code",
   "execution_count": 49,
   "metadata": {},
   "outputs": [
    {
     "name": "stdout",
     "output_type": "stream",
     "text": [
      "moved 1702 files\n"
     ]
    }
   ],
   "source": [
    "move_files_to_classifier_dir(\"blonde\", blonde_photos_names, blonde_photos_path)"
   ]
  },
  {
   "cell_type": "code",
   "execution_count": 46,
   "metadata": {},
   "outputs": [
    {
     "name": "stdout",
     "output_type": "stream",
     "text": [
      "moved 935 files\n",
      "moved 135 files\n"
     ]
    }
   ],
   "source": [
    "move_files_to_classifier_dir(\"brunette\", brunette_photos_names, brunette_photos_path)\n",
    "move_files_to_classifier_dir(\"random\", random_photos_names, random_photos_path)"
   ]
  },
  {
   "cell_type": "code",
   "execution_count": null,
   "metadata": {},
   "outputs": [],
   "source": []
  }
 ],
 "metadata": {
  "kernelspec": {
   "display_name": "Python 3",
   "language": "python",
   "name": "python3"
  },
  "language_info": {
   "codemirror_mode": {
    "name": "ipython",
    "version": 3
   },
   "file_extension": ".py",
   "mimetype": "text/x-python",
   "name": "python",
   "nbconvert_exporter": "python",
   "pygments_lexer": "ipython3",
   "version": "3.7.3"
  }
 },
 "nbformat": 4,
 "nbformat_minor": 2
}
