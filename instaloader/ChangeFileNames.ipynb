{
 "cells": [
  {
   "cell_type": "code",
   "execution_count": 7,
   "metadata": {},
   "outputs": [],
   "source": [
    "import os\n",
    "import subprocess"
   ]
  },
  {
   "cell_type": "code",
   "execution_count": 8,
   "metadata": {},
   "outputs": [
    {
     "name": "stdout",
     "output_type": "stream",
     "text": [
      "b'/home/cjdavis/insight/instaloader\\n'\n"
     ]
    }
   ],
   "source": [
    "result = subprocess.check_output(\"pwd\", shell=True)\n",
    "print (result)"
   ]
  },
  {
   "cell_type": "code",
   "execution_count": 9,
   "metadata": {},
   "outputs": [],
   "source": [
    "blonde_photos_path = \"/home/cjdavis/Downloads/blonde_cleaned/\"\n",
    "blonde_photos_names = os.listdir(blonde_photos_path)\n",
    "\n",
    "brunette_photos_path = \"/home/cjdavis/Downloads/brunette_cleaned/\"\n",
    "brunette_photos_names = os.listdir(brunette_photos_path)\n",
    "\n",
    "random_photos_path = \"/home/cjdavis/Downloads/random/\"\n",
    "random_photos_names = os.listdir(random_photos_path)\n",
    "\n",
    "red_photos_path = \"/home/cjdavis/Downloads/red/\"\n",
    "red_photos_names = os.listdir(red_photos_path)\n",
    "\n",
    "colored_photos_path = \"/home/cjdavis/Downloads/colored/\"\n",
    "colored_photos_names = os.listdir(colored_photos_path)\n",
    "\n",
    "black_photos_path = \"/home/cjdavis/Downloads/black/\"\n",
    "black_photos_names = os.listdir(black_photos_path)"
   ]
  },
  {
   "cell_type": "code",
   "execution_count": 10,
   "metadata": {},
   "outputs": [],
   "source": [
    "def move_files_to_classifier_dir(classifier, photos_names, photos_path):\n",
    "    directory_path = \"/home/cjdavis/insight/instaloader/hair_photos/\" # the location for the photos to go to\n",
    "    x = 0 # numbering the file\n",
    "    for photo in photos_names:\n",
    "        file_location = photos_path + photo\n",
    "        end_location = directory_path + classifier + \"_\" + str(x) + \".jpg\"\n",
    "        #print(file_location, end_location)\n",
    "        #print(\"cp %s %s\" %(file_location, end_location))\n",
    "        os.system(\"cp %s %s\" %(file_location, end_location))\n",
    "        x = x + 1\n",
    "    print (\"moved %s files\" %(x))"
   ]
  },
  {
   "cell_type": "code",
   "execution_count": 11,
   "metadata": {},
   "outputs": [
    {
     "name": "stdout",
     "output_type": "stream",
     "text": [
      "moving files for class: blonde\n",
      "moved 1393 files\n",
      "moving files for class: brunette\n",
      "moved 706 files\n",
      "moving files for class: random\n",
      "moved 238 files\n",
      "moving files for class: colored\n",
      "moved 237 files\n",
      "moving files for class: red\n",
      "moved 128 files\n",
      "moving files for class: black\n",
      "moved 197 files\n"
     ]
    }
   ],
   "source": [
    "list_classes = [\"blonde\", \"brunette\", \"random\", \"colored\", \"red\", \"black\"]\n",
    "list_paths = [blonde_photos_path, brunette_photos_path, random_photos_path, colored_photos_path, red_photos_path, black_photos_path]\n",
    "list_names= [blonde_photos_names, brunette_photos_names, random_photos_names, colored_photos_names, red_photos_names, black_photos_names]\n",
    "for i in range(0, len(list_classes)):\n",
    "    print(\"moving files for class: %s\" %(list_classes[i]))\n",
    "    move_files_to_classifier_dir(list_classes[i], list_names[i], list_paths[i])"
   ]
  },
  {
   "cell_type": "code",
   "execution_count": 49,
   "metadata": {},
   "outputs": [
    {
     "name": "stdout",
     "output_type": "stream",
     "text": [
      "moved 1702 files\n"
     ]
    }
   ],
   "source": [
    "move_files_to_classifier_dir(\"blonde\", blonde_photos_names, blonde_photos_path)"
   ]
  },
  {
   "cell_type": "code",
   "execution_count": 46,
   "metadata": {},
   "outputs": [
    {
     "name": "stdout",
     "output_type": "stream",
     "text": [
      "moved 935 files\n",
      "moved 135 files\n"
     ]
    }
   ],
   "source": [
    "move_files_to_classifier_dir(\"brunette\", brunette_photos_names, brunette_photos_path)\n",
    "move_files_to_classifier_dir(\"random\", random_photos_names, random_photos_path)"
   ]
  },
  {
   "cell_type": "code",
   "execution_count": null,
   "metadata": {},
   "outputs": [],
   "source": []
  }
 ],
 "metadata": {
  "kernelspec": {
   "display_name": "Python 3",
   "language": "python",
   "name": "python3"
  },
  "language_info": {
   "codemirror_mode": {
    "name": "ipython",
    "version": 3
   },
   "file_extension": ".py",
   "mimetype": "text/x-python",
   "name": "python",
   "nbconvert_exporter": "python",
   "pygments_lexer": "ipython3",
   "version": "3.7.3"
  }
 },
 "nbformat": 4,
 "nbformat_minor": 2
}
